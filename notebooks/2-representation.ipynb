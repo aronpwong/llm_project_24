{
  "cells": [
    {
      "cell_type": "code",
      "source": [
        "from google.colab import drive\n",
        "drive.mount('/content/drive')"
      ],
      "metadata": {
        "id": "TXHPfKo2PAIS",
        "outputId": "0029b20d-26e4-4e51-eca1-b6357a169bc5",
        "colab": {
          "base_uri": "https://localhost:8080/"
        }
      },
      "execution_count": 1,
      "outputs": [
        {
          "output_type": "stream",
          "name": "stdout",
          "text": [
            "Drive already mounted at /content/drive; to attempt to forcibly remount, call drive.mount(\"/content/drive\", force_remount=True).\n"
          ]
        }
      ]
    },
    {
      "cell_type": "code",
      "execution_count": 2,
      "metadata": {
        "id": "30CxsbxqLJ1g"
      },
      "outputs": [],
      "source": [
        "import pandas as pd\n",
        "import numpy as np\n",
        "from sklearn.feature_extraction.text import TfidfVectorizer, CountVectorizer\n",
        "from sklearn.linear_model import LogisticRegression\n",
        "from sklearn.ensemble import RandomForestClassifier, GradientBoostingClassifier\n",
        "from sklearn.svm import SVC\n",
        "from sklearn.metrics import accuracy_score, precision_score, recall_score, f1_score, confusion_matrix, classification_report"
      ]
    },
    {
      "cell_type": "code",
      "source": [
        "ds_train = pd.read_csv ('/content/drive/MyDrive/Colab Notebooks/ds_train.csv')\n",
        "ds_test = pd.read_csv ('/content/drive/MyDrive/Colab Notebooks/ds_test.csv')"
      ],
      "metadata": {
        "id": "fIhSbWbgL9bk"
      },
      "execution_count": 3,
      "outputs": []
    },
    {
      "cell_type": "code",
      "source": [
        "y_train = ds_train['label']\n",
        "y_test = ds_test['label']"
      ],
      "metadata": {
        "id": "2oi4kjpvPXNv"
      },
      "execution_count": 4,
      "outputs": []
    },
    {
      "cell_type": "code",
      "source": [
        "tfidf_v = TfidfVectorizer()\n",
        "bow_v = CountVectorizer()\n"
      ],
      "metadata": {
        "id": "EFApmM9dms1k"
      },
      "execution_count": 5,
      "outputs": []
    },
    {
      "cell_type": "code",
      "source": [
        "X_train_t = tfidf_v.fit_transform(ds_train['clean_text'])\n",
        "X_test_t = tfidf_v.transform(ds_test['clean_text'])\n",
        "\n",
        "X_train_b = bow_v.fit_transform(ds_train['clean_text'])\n",
        "X_test_b = bow_v.transform(ds_test['clean_text'])"
      ],
      "metadata": {
        "id": "OayHqczxR0pa"
      },
      "execution_count": 6,
      "outputs": []
    },
    {
      "cell_type": "code",
      "source": [
        "def te_model(model, X_train, y_train, X_test, y_test):\n",
        "    model.fit(X_train, y_train)\n",
        "    y_pred = model.predict(X_test)\n",
        "\n",
        "    accuracy_s = accuracy_score(y_test, y_pred)\n",
        "    precision_s = precision_score(y_test, y_pred)\n",
        "    recall_s = recall_score(y_test, y_pred)\n",
        "    f1_s = f1_score(y_test, y_pred)\n",
        "    confusion_m = confusion_matrix(y_test, y_pred)\n",
        "    c_report = classification_report(y_test, y_pred)\n",
        "\n",
        "    print(f'Accuracy: {accuracy_s}')\n",
        "    print(f'Precision: {precision_s}')\n",
        "    print(f'Recall: {recall_s}')\n",
        "    print(f'F1 Score: {f1_s}')\n",
        "    print('Confusion Matrix:')\n",
        "    print(confusion_m)\n",
        "    print('Classification Report:')\n",
        "    print(c_report)\n",
        "\n",
        "    return accuracy_s, precision_s, recall_s, f1_s, confusion_m, c_report"
      ],
      "metadata": {
        "id": "_VD_5v_pSTrU"
      },
      "execution_count": 7,
      "outputs": []
    },
    {
      "cell_type": "code",
      "source": [
        "print(\"TF-IDF Models\")\n",
        "\n",
        "# Logistic Regression\n",
        "print(\"Logistic Regression\")\n",
        "logr_model = LogisticRegression()\n",
        "te_model(logr_model, X_train_t, y_train, X_test_t, y_test)\n",
        "\n",
        "# Random Forest\n",
        "print(\"Random Forest\")\n",
        "ranf_model = RandomForestClassifier()\n",
        "te_model(ranf_model, X_train_t, y_train, X_test_t, y_test)\n",
        "\n",
        "# Gradient Boosting\n",
        "print(\"Gradient Boosting\")\n",
        "gradb_model = GradientBoostingClassifier()\n",
        "te_model(gradb_model, X_train_t, y_train, X_test_t, y_test)\n",
        "\n",
        "# SVM\n",
        "print(\"SVM\")\n",
        "svm_model = SVC(kernel='linear', probability=True)\n",
        "te_model(svm_model, X_train_t, y_train, X_test_t, y_test)"
      ],
      "metadata": {
        "id": "PRR2M5uoSzX7",
        "outputId": "03fbabb2-86cc-4d29-c3c8-9c6681305acc",
        "colab": {
          "base_uri": "https://localhost:8080/"
        }
      },
      "execution_count": 9,
      "outputs": [
        {
          "output_type": "stream",
          "name": "stdout",
          "text": [
            "TF-IDF Models\n",
            "Logistic Regression\n",
            "Accuracy: 0.879\n",
            "Precision: 0.877760944103341\n",
            "Recall: 0.88064\n",
            "F1 Score: 0.8791981150912503\n",
            "Confusion Matrix:\n",
            "[[10967  1533]\n",
            " [ 1492 11008]]\n",
            "Classification Report:\n",
            "              precision    recall  f1-score   support\n",
            "\n",
            "           0       0.88      0.88      0.88     12500\n",
            "           1       0.88      0.88      0.88     12500\n",
            "\n",
            "    accuracy                           0.88     25000\n",
            "   macro avg       0.88      0.88      0.88     25000\n",
            "weighted avg       0.88      0.88      0.88     25000\n",
            "\n",
            "Random Forest\n",
            "Accuracy: 0.8466\n",
            "Precision: 0.8580282621270969\n",
            "Recall: 0.83064\n",
            "F1 Score: 0.8441120279663429\n",
            "Confusion Matrix:\n",
            "[[10782  1718]\n",
            " [ 2117 10383]]\n",
            "Classification Report:\n",
            "              precision    recall  f1-score   support\n",
            "\n",
            "           0       0.84      0.86      0.85     12500\n",
            "           1       0.86      0.83      0.84     12500\n",
            "\n",
            "    accuracy                           0.85     25000\n",
            "   macro avg       0.85      0.85      0.85     25000\n",
            "weighted avg       0.85      0.85      0.85     25000\n",
            "\n",
            "Gradient Boosting\n",
            "Accuracy: 0.80752\n",
            "Precision: 0.7776253069478549\n",
            "Recall: 0.86136\n",
            "F1 Score: 0.8173536779776815\n",
            "Confusion Matrix:\n",
            "[[ 9421  3079]\n",
            " [ 1733 10767]]\n",
            "Classification Report:\n",
            "              precision    recall  f1-score   support\n",
            "\n",
            "           0       0.84      0.75      0.80     12500\n",
            "           1       0.78      0.86      0.82     12500\n",
            "\n",
            "    accuracy                           0.81     25000\n",
            "   macro avg       0.81      0.81      0.81     25000\n",
            "weighted avg       0.81      0.81      0.81     25000\n",
            "\n",
            "SVM\n",
            "Accuracy: 0.87548\n",
            "Precision: 0.8818647791066634\n",
            "Recall: 0.86712\n",
            "F1 Score: 0.8744302367794765\n",
            "Confusion Matrix:\n",
            "[[11048  1452]\n",
            " [ 1661 10839]]\n",
            "Classification Report:\n",
            "              precision    recall  f1-score   support\n",
            "\n",
            "           0       0.87      0.88      0.88     12500\n",
            "           1       0.88      0.87      0.87     12500\n",
            "\n",
            "    accuracy                           0.88     25000\n",
            "   macro avg       0.88      0.88      0.88     25000\n",
            "weighted avg       0.88      0.88      0.88     25000\n",
            "\n"
          ]
        },
        {
          "output_type": "execute_result",
          "data": {
            "text/plain": [
              "(0.87548,\n",
              " 0.8818647791066634,\n",
              " 0.86712,\n",
              " 0.8744302367794765,\n",
              " array([[11048,  1452],\n",
              "        [ 1661, 10839]]),\n",
              " '              precision    recall  f1-score   support\\n\\n           0       0.87      0.88      0.88     12500\\n           1       0.88      0.87      0.87     12500\\n\\n    accuracy                           0.88     25000\\n   macro avg       0.88      0.88      0.88     25000\\nweighted avg       0.88      0.88      0.88     25000\\n')"
            ]
          },
          "metadata": {},
          "execution_count": 9
        }
      ]
    },
    {
      "cell_type": "code",
      "source": [
        "print(\"BoW Models\")\n",
        "\n",
        "# Logistic Regression\n",
        "print(\"Logistic Regression\")\n",
        "logr_model = LogisticRegression(max_iter=1000)\n",
        "te_model(logr_model, X_train_b, y_train, X_test_b, y_test)\n",
        "\n",
        "# Random Forest\n",
        "print(\"Random Forest\")\n",
        "ranf_model = RandomForestClassifier(n_estimators=100)\n",
        "te_model(ranf_model, X_train_b, y_train, X_test_b, y_test)\n",
        "\n",
        "# Gradient Boosting\n",
        "print(\"Gradient Boosting\")\n",
        "gradb_model = GradientBoostingClassifier(n_estimators=100)\n",
        "te_model(gradb_model, X_train_b, y_train, X_test_b, y_test)\n",
        "\n",
        "# SVM\n",
        "print(\"SVM\")\n",
        "svm_model = SVC(kernel='linear', probability=True)\n",
        "te_model(svm_model, X_train_b, y_train, X_test_b, y_test)"
      ],
      "metadata": {
        "id": "Jq6HjtgcCmlH",
        "outputId": "af2df1b2-92df-4e6d-cc09-fa3e45026b09",
        "colab": {
          "base_uri": "https://localhost:8080/"
        }
      },
      "execution_count": 16,
      "outputs": [
        {
          "output_type": "stream",
          "name": "stdout",
          "text": [
            "BoW Models\n",
            "Logistic Regression\n",
            "Accuracy: 0.8598\n",
            "Precision: 0.864967946117017\n",
            "Recall: 0.85272\n",
            "F1 Score: 0.8588003061676672\n",
            "Confusion Matrix:\n",
            "[[10836  1664]\n",
            " [ 1841 10659]]\n",
            "Classification Report:\n",
            "              precision    recall  f1-score   support\n",
            "\n",
            "           0       0.85      0.87      0.86     12500\n",
            "           1       0.86      0.85      0.86     12500\n",
            "\n",
            "    accuracy                           0.86     25000\n",
            "   macro avg       0.86      0.86      0.86     25000\n",
            "weighted avg       0.86      0.86      0.86     25000\n",
            "\n",
            "Random Forest\n",
            "Accuracy: 0.84492\n",
            "Precision: 0.8497606879208242\n",
            "Recall: 0.838\n",
            "F1 Score: 0.8438393684295322\n",
            "Confusion Matrix:\n",
            "[[10648  1852]\n",
            " [ 2025 10475]]\n",
            "Classification Report:\n",
            "              precision    recall  f1-score   support\n",
            "\n",
            "           0       0.84      0.85      0.85     12500\n",
            "           1       0.85      0.84      0.84     12500\n",
            "\n",
            "    accuracy                           0.84     25000\n",
            "   macro avg       0.84      0.84      0.84     25000\n",
            "weighted avg       0.84      0.84      0.84     25000\n",
            "\n",
            "Gradient Boosting\n",
            "Accuracy: 0.80744\n",
            "Precision: 0.7781960330099899\n",
            "Recall: 0.86\n",
            "F1 Score: 0.8170555597780649\n",
            "Confusion Matrix:\n",
            "[[ 9436  3064]\n",
            " [ 1750 10750]]\n",
            "Classification Report:\n",
            "              precision    recall  f1-score   support\n",
            "\n",
            "           0       0.84      0.75      0.80     12500\n",
            "           1       0.78      0.86      0.82     12500\n",
            "\n",
            "    accuracy                           0.81     25000\n",
            "   macro avg       0.81      0.81      0.81     25000\n",
            "weighted avg       0.81      0.81      0.81     25000\n",
            "\n",
            "SVM\n",
            "Accuracy: 0.84\n",
            "Precision: 0.8472222222222222\n",
            "Recall: 0.8296\n",
            "F1 Score: 0.8383185125303153\n",
            "Confusion Matrix:\n",
            "[[10630  1870]\n",
            " [ 2130 10370]]\n",
            "Classification Report:\n",
            "              precision    recall  f1-score   support\n",
            "\n",
            "           0       0.83      0.85      0.84     12500\n",
            "           1       0.85      0.83      0.84     12500\n",
            "\n",
            "    accuracy                           0.84     25000\n",
            "   macro avg       0.84      0.84      0.84     25000\n",
            "weighted avg       0.84      0.84      0.84     25000\n",
            "\n"
          ]
        },
        {
          "output_type": "execute_result",
          "data": {
            "text/plain": [
              "(0.84,\n",
              " 0.8472222222222222,\n",
              " 0.8296,\n",
              " 0.8383185125303153,\n",
              " array([[10630,  1870],\n",
              "        [ 2130, 10370]]),\n",
              " '              precision    recall  f1-score   support\\n\\n           0       0.83      0.85      0.84     12500\\n           1       0.85      0.83      0.84     12500\\n\\n    accuracy                           0.84     25000\\n   macro avg       0.84      0.84      0.84     25000\\nweighted avg       0.84      0.84      0.84     25000\\n')"
            ]
          },
          "metadata": {},
          "execution_count": 16
        }
      ]
    }
  ],
  "metadata": {
    "language_info": {
      "name": "python"
    },
    "orig_nbformat": 4,
    "colab": {
      "provenance": []
    },
    "kernelspec": {
      "name": "python3",
      "display_name": "Python 3"
    }
  },
  "nbformat": 4,
  "nbformat_minor": 0
}